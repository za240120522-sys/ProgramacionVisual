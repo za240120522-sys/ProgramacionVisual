{
  "nbformat": 4,
  "nbformat_minor": 0,
  "metadata": {
    "colab": {
      "provenance": [],
      "authorship_tag": "ABX9TyMRZI712pzDXaDayjakGqb9",
      "include_colab_link": true
    },
    "kernelspec": {
      "name": "python3",
      "display_name": "Python 3"
    },
    "language_info": {
      "name": "python"
    }
  },
  "cells": [
    {
      "cell_type": "markdown",
      "metadata": {
        "id": "view-in-github",
        "colab_type": "text"
      },
      "source": [
        "<a href=\"https://colab.research.google.com/github/za240120522-sys/ProgramacionVisual/blob/main/EstructurasAlgoritmicasRepeticionySelectivas.ipynb\" target=\"_parent\"><img src=\"https://colab.research.google.com/assets/colab-badge.svg\" alt=\"Open In Colab\"/></a>"
      ]
    },
    {
      "cell_type": "code",
      "execution_count": null,
      "metadata": {
        "id": "B7m3YTPi-zKq"
      },
      "outputs": [],
      "source": [
        "Mi primer programa con la sentencia if"
      ]
    },
    {
      "cell_type": "markdown",
      "source": [],
      "metadata": {
        "id": "ifByqNWs-1B5"
      }
    },
    {
      "cell_type": "code",
      "source": [
        "    a = 10\n",
        "    b = 5\n",
        "    if b!= 0:\n",
        "      print(a/b)\n",
        "\n",
        "      import random\n",
        "      import time\n",
        "\n",
        "      #ésta es la simulación del sensor de temperatura\n",
        "      temperaturas_simuladas = [random.randint(50, 100) for _ in range(20)]\n",
        "\n",
        "      ventilador_encendido = False\n",
        "      indice = 0\n",
        "      # Monitoreo continuo\n",
        "      while indice < len(temperaturas_simuladas):\n",
        "        temperatura_actual = temperaturas_simuladas[indice]\n",
        "        print(f\"Temperatura actual: {temperatura_actual}°C\")\n",
        "        if temperatura_actual > 70 and not ventilador_encendido:\n",
        "          ventilador_encendido = True\n",
        "          print(\"Ventilador encendido\")\n",
        "        elif temperatura_actual < 65 and ventilador_encendido:\n",
        "            ventilador_encendido = False\n",
        "            print(\"Ventilador apagado\")\n",
        "        else:\n",
        "            print(\"Ventilador en funcionamiento\")\n",
        "        estado = \"encendido\" if ventilador_encendido else \"apagado\"\n",
        "        print(f\"Ventilador: {estado}\")\n",
        "        indice += 1\n",
        "        time.sleep(0.5)#simula el tiempo de lecturas\n",
        "\n",
        "\n",
        "\n",
        "\n",
        "\n",
        ""
      ],
      "metadata": {
        "colab": {
          "base_uri": "https://localhost:8080/"
        },
        "id": "R3ybOCeB--ax",
        "outputId": "4ee8c8f2-a0a4-4e37-f0bb-9d2f18d5f59e"
      },
      "execution_count": 8,
      "outputs": [
        {
          "output_type": "stream",
          "name": "stdout",
          "text": [
            "2.0\n",
            "Temperatura actual: 51°C\n",
            "Ventilador en funcionamiento\n",
            "Ventilador: apagado\n",
            "Temperatura actual: 68°C\n",
            "Ventilador en funcionamiento\n",
            "Ventilador: apagado\n",
            "Temperatura actual: 79°C\n",
            "Ventilador encendido\n",
            "Ventilador: encendido\n",
            "Temperatura actual: 85°C\n",
            "Ventilador en funcionamiento\n",
            "Ventilador: encendido\n",
            "Temperatura actual: 71°C\n",
            "Ventilador en funcionamiento\n",
            "Ventilador: encendido\n",
            "Temperatura actual: 93°C\n",
            "Ventilador en funcionamiento\n",
            "Ventilador: encendido\n",
            "Temperatura actual: 73°C\n",
            "Ventilador en funcionamiento\n",
            "Ventilador: encendido\n",
            "Temperatura actual: 89°C\n",
            "Ventilador en funcionamiento\n",
            "Ventilador: encendido\n",
            "Temperatura actual: 57°C\n",
            "Ventilador apagado\n",
            "Ventilador: apagado\n",
            "Temperatura actual: 72°C\n",
            "Ventilador encendido\n",
            "Ventilador: encendido\n",
            "Temperatura actual: 51°C\n",
            "Ventilador apagado\n",
            "Ventilador: apagado\n",
            "Temperatura actual: 90°C\n",
            "Ventilador encendido\n",
            "Ventilador: encendido\n",
            "Temperatura actual: 92°C\n",
            "Ventilador en funcionamiento\n",
            "Ventilador: encendido\n",
            "Temperatura actual: 73°C\n",
            "Ventilador en funcionamiento\n",
            "Ventilador: encendido\n",
            "Temperatura actual: 74°C\n",
            "Ventilador en funcionamiento\n",
            "Ventilador: encendido\n",
            "Temperatura actual: 89°C\n",
            "Ventilador en funcionamiento\n",
            "Ventilador: encendido\n",
            "Temperatura actual: 61°C\n",
            "Ventilador apagado\n",
            "Ventilador: apagado\n",
            "Temperatura actual: 72°C\n",
            "Ventilador encendido\n",
            "Ventilador: encendido\n",
            "Temperatura actual: 75°C\n",
            "Ventilador en funcionamiento\n",
            "Ventilador: encendido\n",
            "Temperatura actual: 77°C\n",
            "Ventilador en funcionamiento\n",
            "Ventilador: encendido\n"
          ]
        }
      ]
    },
    {
      "cell_type": "markdown",
      "source": [],
      "metadata": {
        "id": "UbS-Ft1lJ5pP"
      }
    },
    {
      "cell_type": "markdown",
      "source": [],
      "metadata": {
        "id": "c3BGpjduJYcI"
      }
    },
    {
      "cell_type": "code",
      "source": [
        "       import random\n",
        "\n",
        "       dispositivos = 5\n",
        "       voltajes = [round(random.uniform (3.0, 4.2), 2)for _ in range(dispositivos)]\n",
        "       #clasificación de cada batería\n",
        "       for i, vol in enumerate(voltajes, 1):\n",
        "         if vol < 3.3:\n",
        "          print(f\"Beteria {i}: Baja\")\n",
        "         elif vol >= 4.0:\n",
        "          print(f\"Bateria {i}: Optima\")\n",
        "          estado = \"Optima\"\n",
        "         else:\n",
        "          #print(f\"Bateria {i}: Advertencia\")\n",
        "          estado = \"Advertencia\"\n",
        "         print (f\"Bateria {i}: {vol} V --> {estado}\")"
      ],
      "metadata": {
        "colab": {
          "base_uri": "https://localhost:8080/"
        },
        "id": "7s_FyKp9JcD4",
        "outputId": "0fd72d4b-bd74-4db0-ee0d-8134257df589"
      },
      "execution_count": 9,
      "outputs": [
        {
          "output_type": "stream",
          "name": "stdout",
          "text": [
            "Beteria 1: Baja\n",
            "Bateria 1: 3.16 V --> encendido\n",
            "Beteria 2: Baja\n",
            "Bateria 2: 3.27 V --> encendido\n",
            "Beteria 3: Baja\n",
            "Bateria 3: 3.25 V --> encendido\n",
            "Bateria 4: optima\n",
            "Bateria 4: 4.06 V --> Optima\n",
            "Bateria 5: 3.73 V --> Advertencia\n"
          ]
        }
      ]
    },
    {
      "cell_type": "markdown",
      "source": [
        "Problema 2 Revisión de voltaje de de bateía"
      ],
      "metadata": {
        "id": "lUKlYckMJ7nS"
      }
    },
    {
      "cell_type": "markdown",
      "source": [],
      "metadata": {
        "id": "7NHgll3LJ052"
      }
    },
    {
      "cell_type": "code",
      "source": [],
      "metadata": {
        "id": "eu1NVZvbNSFE"
      },
      "execution_count": null,
      "outputs": []
    },
    {
      "cell_type": "markdown",
      "source": [
        "Código libre"
      ],
      "metadata": {
        "id": "majaXI6pNTO0"
      }
    },
    {
      "cell_type": "code",
      "source": [],
      "metadata": {
        "id": "dgxZ7z3pNXWO"
      },
      "execution_count": null,
      "outputs": []
    },
    {
      "cell_type": "markdown",
      "source": [],
      "metadata": {
        "id": "fI36szzFJ4Vv"
      }
    }
  ]
}